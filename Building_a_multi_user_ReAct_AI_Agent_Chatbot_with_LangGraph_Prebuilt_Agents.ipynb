{
 "cells": [
  {
   "cell_type": "markdown",
   "metadata": {
    "id": "SAJXqib20reE"
   },
   "source": [
    "# Building a multi-user ReAct AI Agent Chatbot with LangGraph - Prebuilt Agents"
   ]
  },
  {
   "cell_type": "markdown",
   "metadata": {
    "id": "NYBpZTjLnEXb"
   },
   "source": [
    "This demo will cover building AI Agents with LangGraph. We will use a pre-built agent but it should ease you into getting to grips with LangGraph\n",
    "\n",
    "Agents are systems that use an LLM as a reasoning engine to determine which actions to take and what the inputs to those actions should be. The results of those actions can then be fed back into the agent and it determines whether more actions are needed, or whether it is okay to stop.\n",
    "\n",
    "Here we'll create a simple ReAct agent app that can search the web and check the weather. The app consists of an agent (LLM) and tools. As we interact with the app, we will first call the agent (LLM) to decide if we should use tools. Then we will run a loop:\n",
    "\n",
    "- If the agent said to take an action (i.e. call tool), we'll run the tools and pass the results back to the agent\n",
    "- If the agent did not ask to run tools, we will finish (respond to the user)\n",
    "\n"
   ]
  },
  {
   "cell_type": "markdown",
   "metadata": {
    "id": "L1KvMtf54l0d"
   },
   "source": [
    "## Install OpenAI, and LangChain dependencies"
   ]
  },
  {
   "cell_type": "markdown",
   "metadata": {},
   "source": [
    "Install the following httpx library version for compatibility with other libraries"
   ]
  },
  {
   "cell_type": "code",
   "execution_count": null,
   "metadata": {},
   "outputs": [],
   "source": [
    "!pip install httpx==0.27.2"
   ]
  },
  {
   "cell_type": "code",
   "execution_count": 1,
   "metadata": {
    "colab": {
     "base_uri": "https://localhost:8080/"
    },
    "id": "2evPp14fy258",
    "outputId": "bc198191-339e-4282-ee9b-5b61d403e206",
    "scrolled": true
   },
   "outputs": [
    {
     "name": "stdout",
     "output_type": "stream",
     "text": [
      "Collecting langchain==0.2.0\n",
      "  Downloading langchain-0.2.0-py3-none-any.whl (973 kB)\n",
      "\u001b[2K     \u001b[90m━━━━━━━━━━━━━━━━━━━━━━━━━━━━━━━━━━━━━━━━\u001b[0m \u001b[32m973.7/973.7 kB\u001b[0m \u001b[31m5.0 MB/s\u001b[0m eta \u001b[36m0:00:00\u001b[0m\n",
      "\u001b[?25hRequirement already satisfied: PyYAML>=5.3 in /usr/local/lib/python3.10/dist-packages (from langchain==0.2.0) (6.0.1)\n",
      "Requirement already satisfied: SQLAlchemy<3,>=1.4 in /usr/local/lib/python3.10/dist-packages (from langchain==0.2.0) (2.0.31)\n",
      "Requirement already satisfied: aiohttp<4.0.0,>=3.8.3 in /usr/local/lib/python3.10/dist-packages (from langchain==0.2.0) (3.9.5)\n",
      "Requirement already satisfied: async-timeout<5.0.0,>=4.0.0 in /usr/local/lib/python3.10/dist-packages (from langchain==0.2.0) (4.0.3)\n",
      "Collecting dataclasses-json<0.7,>=0.5.7 (from langchain==0.2.0)\n",
      "  Downloading dataclasses_json-0.6.7-py3-none-any.whl (28 kB)\n",
      "Collecting langchain-core<0.3.0,>=0.2.0 (from langchain==0.2.0)\n",
      "  Downloading langchain_core-0.2.10-py3-none-any.whl (332 kB)\n",
      "\u001b[2K     \u001b[90m━━━━━━━━━━━━━━━━━━━━━━━━━━━━━━━━━━━━━━━━\u001b[0m \u001b[32m332.8/332.8 kB\u001b[0m \u001b[31m7.5 MB/s\u001b[0m eta \u001b[36m0:00:00\u001b[0m\n",
      "\u001b[?25hCollecting langchain-text-splitters<0.3.0,>=0.2.0 (from langchain==0.2.0)\n",
      "  Downloading langchain_text_splitters-0.2.2-py3-none-any.whl (25 kB)\n",
      "Collecting langsmith<0.2.0,>=0.1.17 (from langchain==0.2.0)\n",
      "  Downloading langsmith-0.1.82-py3-none-any.whl (127 kB)\n",
      "\u001b[2K     \u001b[90m━━━━━━━━━━━━━━━━━━━━━━━━━━━━━━━━━━━━━━━━\u001b[0m \u001b[32m127.4/127.4 kB\u001b[0m \u001b[31m3.9 MB/s\u001b[0m eta \u001b[36m0:00:00\u001b[0m\n",
      "\u001b[?25hRequirement already satisfied: numpy<2,>=1 in /usr/local/lib/python3.10/dist-packages (from langchain==0.2.0) (1.25.2)\n",
      "Requirement already satisfied: pydantic<3,>=1 in /usr/local/lib/python3.10/dist-packages (from langchain==0.2.0) (2.7.4)\n",
      "Requirement already satisfied: requests<3,>=2 in /usr/local/lib/python3.10/dist-packages (from langchain==0.2.0) (2.31.0)\n",
      "Requirement already satisfied: tenacity<9.0.0,>=8.1.0 in /usr/local/lib/python3.10/dist-packages (from langchain==0.2.0) (8.4.1)\n",
      "Requirement already satisfied: aiosignal>=1.1.2 in /usr/local/lib/python3.10/dist-packages (from aiohttp<4.0.0,>=3.8.3->langchain==0.2.0) (1.3.1)\n",
      "Requirement already satisfied: attrs>=17.3.0 in /usr/local/lib/python3.10/dist-packages (from aiohttp<4.0.0,>=3.8.3->langchain==0.2.0) (23.2.0)\n",
      "Requirement already satisfied: frozenlist>=1.1.1 in /usr/local/lib/python3.10/dist-packages (from aiohttp<4.0.0,>=3.8.3->langchain==0.2.0) (1.4.1)\n",
      "Requirement already satisfied: multidict<7.0,>=4.5 in /usr/local/lib/python3.10/dist-packages (from aiohttp<4.0.0,>=3.8.3->langchain==0.2.0) (6.0.5)\n",
      "Requirement already satisfied: yarl<2.0,>=1.0 in /usr/local/lib/python3.10/dist-packages (from aiohttp<4.0.0,>=3.8.3->langchain==0.2.0) (1.9.4)\n",
      "Collecting marshmallow<4.0.0,>=3.18.0 (from dataclasses-json<0.7,>=0.5.7->langchain==0.2.0)\n",
      "  Downloading marshmallow-3.21.3-py3-none-any.whl (49 kB)\n",
      "\u001b[2K     \u001b[90m━━━━━━━━━━━━━━━━━━━━━━━━━━━━━━━━━━━━━━━━\u001b[0m \u001b[32m49.2/49.2 kB\u001b[0m \u001b[31m2.8 MB/s\u001b[0m eta \u001b[36m0:00:00\u001b[0m\n",
      "\u001b[?25hCollecting typing-inspect<1,>=0.4.0 (from dataclasses-json<0.7,>=0.5.7->langchain==0.2.0)\n",
      "  Downloading typing_inspect-0.9.0-py3-none-any.whl (8.8 kB)\n",
      "Collecting jsonpatch<2.0,>=1.33 (from langchain-core<0.3.0,>=0.2.0->langchain==0.2.0)\n",
      "  Downloading jsonpatch-1.33-py2.py3-none-any.whl (12 kB)\n",
      "Requirement already satisfied: packaging<25,>=23.2 in /usr/local/lib/python3.10/dist-packages (from langchain-core<0.3.0,>=0.2.0->langchain==0.2.0) (24.1)\n",
      "Collecting orjson<4.0.0,>=3.9.14 (from langsmith<0.2.0,>=0.1.17->langchain==0.2.0)\n",
      "  Downloading orjson-3.10.5-cp310-cp310-manylinux_2_17_x86_64.manylinux2014_x86_64.whl (144 kB)\n",
      "\u001b[2K     \u001b[90m━━━━━━━━━━━━━━━━━━━━━━━━━━━━━━━━━━━━━━━━\u001b[0m \u001b[32m145.0/145.0 kB\u001b[0m \u001b[31m2.4 MB/s\u001b[0m eta \u001b[36m0:00:00\u001b[0m\n",
      "\u001b[?25hRequirement already satisfied: annotated-types>=0.4.0 in /usr/local/lib/python3.10/dist-packages (from pydantic<3,>=1->langchain==0.2.0) (0.7.0)\n",
      "Requirement already satisfied: pydantic-core==2.18.4 in /usr/local/lib/python3.10/dist-packages (from pydantic<3,>=1->langchain==0.2.0) (2.18.4)\n",
      "Requirement already satisfied: typing-extensions>=4.6.1 in /usr/local/lib/python3.10/dist-packages (from pydantic<3,>=1->langchain==0.2.0) (4.12.2)\n",
      "Requirement already satisfied: charset-normalizer<4,>=2 in /usr/local/lib/python3.10/dist-packages (from requests<3,>=2->langchain==0.2.0) (3.3.2)\n",
      "Requirement already satisfied: idna<4,>=2.5 in /usr/local/lib/python3.10/dist-packages (from requests<3,>=2->langchain==0.2.0) (3.7)\n",
      "Requirement already satisfied: urllib3<3,>=1.21.1 in /usr/local/lib/python3.10/dist-packages (from requests<3,>=2->langchain==0.2.0) (2.0.7)\n",
      "Requirement already satisfied: certifi>=2017.4.17 in /usr/local/lib/python3.10/dist-packages (from requests<3,>=2->langchain==0.2.0) (2024.6.2)\n",
      "Requirement already satisfied: greenlet!=0.4.17 in /usr/local/lib/python3.10/dist-packages (from SQLAlchemy<3,>=1.4->langchain==0.2.0) (3.0.3)\n",
      "Collecting jsonpointer>=1.9 (from jsonpatch<2.0,>=1.33->langchain-core<0.3.0,>=0.2.0->langchain==0.2.0)\n",
      "  Downloading jsonpointer-3.0.0-py2.py3-none-any.whl (7.6 kB)\n",
      "Collecting mypy-extensions>=0.3.0 (from typing-inspect<1,>=0.4.0->dataclasses-json<0.7,>=0.5.7->langchain==0.2.0)\n",
      "  Downloading mypy_extensions-1.0.0-py3-none-any.whl (4.7 kB)\n",
      "Installing collected packages: orjson, mypy-extensions, marshmallow, jsonpointer, typing-inspect, jsonpatch, langsmith, dataclasses-json, langchain-core, langchain-text-splitters, langchain\n",
      "Successfully installed dataclasses-json-0.6.7 jsonpatch-1.33 jsonpointer-3.0.0 langchain-0.2.0 langchain-core-0.2.10 langchain-text-splitters-0.2.2 langsmith-0.1.82 marshmallow-3.21.3 mypy-extensions-1.0.0 orjson-3.10.5 typing-inspect-0.9.0\n",
      "Collecting langchain-openai==0.1.7\n",
      "  Downloading langchain_openai-0.1.7-py3-none-any.whl (34 kB)\n",
      "Requirement already satisfied: langchain-core<0.3,>=0.1.46 in /usr/local/lib/python3.10/dist-packages (from langchain-openai==0.1.7) (0.2.10)\n",
      "Collecting openai<2.0.0,>=1.24.0 (from langchain-openai==0.1.7)\n",
      "  Downloading openai-1.35.7-py3-none-any.whl (327 kB)\n",
      "\u001b[2K     \u001b[90m━━━━━━━━━━━━━━━━━━━━━━━━━━━━━━━━━━━━━━━━\u001b[0m \u001b[32m327.5/327.5 kB\u001b[0m \u001b[31m7.2 MB/s\u001b[0m eta \u001b[36m0:00:00\u001b[0m\n",
      "\u001b[?25hCollecting tiktoken<1,>=0.7 (from langchain-openai==0.1.7)\n",
      "  Downloading tiktoken-0.7.0-cp310-cp310-manylinux_2_17_x86_64.manylinux2014_x86_64.whl (1.1 MB)\n",
      "\u001b[2K     \u001b[90m━━━━━━━━━━━━━━━━━━━━━━━━━━━━━━━━━━━━━━━━\u001b[0m \u001b[32m1.1/1.1 MB\u001b[0m \u001b[31m8.8 MB/s\u001b[0m eta \u001b[36m0:00:00\u001b[0m\n",
      "\u001b[?25hRequirement already satisfied: PyYAML>=5.3 in /usr/local/lib/python3.10/dist-packages (from langchain-core<0.3,>=0.1.46->langchain-openai==0.1.7) (6.0.1)\n",
      "Requirement already satisfied: jsonpatch<2.0,>=1.33 in /usr/local/lib/python3.10/dist-packages (from langchain-core<0.3,>=0.1.46->langchain-openai==0.1.7) (1.33)\n",
      "Requirement already satisfied: langsmith<0.2.0,>=0.1.75 in /usr/local/lib/python3.10/dist-packages (from langchain-core<0.3,>=0.1.46->langchain-openai==0.1.7) (0.1.82)\n",
      "Requirement already satisfied: packaging<25,>=23.2 in /usr/local/lib/python3.10/dist-packages (from langchain-core<0.3,>=0.1.46->langchain-openai==0.1.7) (24.1)\n",
      "Requirement already satisfied: pydantic<3,>=1 in /usr/local/lib/python3.10/dist-packages (from langchain-core<0.3,>=0.1.46->langchain-openai==0.1.7) (2.7.4)\n",
      "Requirement already satisfied: tenacity!=8.4.0,<9.0.0,>=8.1.0 in /usr/local/lib/python3.10/dist-packages (from langchain-core<0.3,>=0.1.46->langchain-openai==0.1.7) (8.4.1)\n",
      "Requirement already satisfied: anyio<5,>=3.5.0 in /usr/local/lib/python3.10/dist-packages (from openai<2.0.0,>=1.24.0->langchain-openai==0.1.7) (3.7.1)\n",
      "Requirement already satisfied: distro<2,>=1.7.0 in /usr/lib/python3/dist-packages (from openai<2.0.0,>=1.24.0->langchain-openai==0.1.7) (1.7.0)\n",
      "Collecting httpx<1,>=0.23.0 (from openai<2.0.0,>=1.24.0->langchain-openai==0.1.7)\n",
      "  Downloading httpx-0.27.0-py3-none-any.whl (75 kB)\n",
      "\u001b[2K     \u001b[90m━━━━━━━━━━━━━━━━━━━━━━━━━━━━━━━━━━━━━━━━\u001b[0m \u001b[32m75.6/75.6 kB\u001b[0m \u001b[31m6.6 MB/s\u001b[0m eta \u001b[36m0:00:00\u001b[0m\n",
      "\u001b[?25hRequirement already satisfied: sniffio in /usr/local/lib/python3.10/dist-packages (from openai<2.0.0,>=1.24.0->langchain-openai==0.1.7) (1.3.1)\n",
      "Requirement already satisfied: tqdm>4 in /usr/local/lib/python3.10/dist-packages (from openai<2.0.0,>=1.24.0->langchain-openai==0.1.7) (4.66.4)\n",
      "Requirement already satisfied: typing-extensions<5,>=4.7 in /usr/local/lib/python3.10/dist-packages (from openai<2.0.0,>=1.24.0->langchain-openai==0.1.7) (4.12.2)\n",
      "Requirement already satisfied: regex>=2022.1.18 in /usr/local/lib/python3.10/dist-packages (from tiktoken<1,>=0.7->langchain-openai==0.1.7) (2024.5.15)\n",
      "Requirement already satisfied: requests>=2.26.0 in /usr/local/lib/python3.10/dist-packages (from tiktoken<1,>=0.7->langchain-openai==0.1.7) (2.31.0)\n",
      "Requirement already satisfied: idna>=2.8 in /usr/local/lib/python3.10/dist-packages (from anyio<5,>=3.5.0->openai<2.0.0,>=1.24.0->langchain-openai==0.1.7) (3.7)\n",
      "Requirement already satisfied: exceptiongroup in /usr/local/lib/python3.10/dist-packages (from anyio<5,>=3.5.0->openai<2.0.0,>=1.24.0->langchain-openai==0.1.7) (1.2.1)\n",
      "Requirement already satisfied: certifi in /usr/local/lib/python3.10/dist-packages (from httpx<1,>=0.23.0->openai<2.0.0,>=1.24.0->langchain-openai==0.1.7) (2024.6.2)\n",
      "Collecting httpcore==1.* (from httpx<1,>=0.23.0->openai<2.0.0,>=1.24.0->langchain-openai==0.1.7)\n",
      "  Downloading httpcore-1.0.5-py3-none-any.whl (77 kB)\n",
      "\u001b[2K     \u001b[90m━━━━━━━━━━━━━━━━━━━━━━━━━━━━━━━━━━━━━━━━\u001b[0m \u001b[32m77.9/77.9 kB\u001b[0m \u001b[31m8.3 MB/s\u001b[0m eta \u001b[36m0:00:00\u001b[0m\n",
      "\u001b[?25hCollecting h11<0.15,>=0.13 (from httpcore==1.*->httpx<1,>=0.23.0->openai<2.0.0,>=1.24.0->langchain-openai==0.1.7)\n",
      "  Downloading h11-0.14.0-py3-none-any.whl (58 kB)\n",
      "\u001b[2K     \u001b[90m━━━━━━━━━━━━━━━━━━━━━━━━━━━━━━━━━━━━━━━━\u001b[0m \u001b[32m58.3/58.3 kB\u001b[0m \u001b[31m6.3 MB/s\u001b[0m eta \u001b[36m0:00:00\u001b[0m\n",
      "\u001b[?25hRequirement already satisfied: jsonpointer>=1.9 in /usr/local/lib/python3.10/dist-packages (from jsonpatch<2.0,>=1.33->langchain-core<0.3,>=0.1.46->langchain-openai==0.1.7) (3.0.0)\n",
      "Requirement already satisfied: orjson<4.0.0,>=3.9.14 in /usr/local/lib/python3.10/dist-packages (from langsmith<0.2.0,>=0.1.75->langchain-core<0.3,>=0.1.46->langchain-openai==0.1.7) (3.10.5)\n",
      "Requirement already satisfied: annotated-types>=0.4.0 in /usr/local/lib/python3.10/dist-packages (from pydantic<3,>=1->langchain-core<0.3,>=0.1.46->langchain-openai==0.1.7) (0.7.0)\n",
      "Requirement already satisfied: pydantic-core==2.18.4 in /usr/local/lib/python3.10/dist-packages (from pydantic<3,>=1->langchain-core<0.3,>=0.1.46->langchain-openai==0.1.7) (2.18.4)\n",
      "Requirement already satisfied: charset-normalizer<4,>=2 in /usr/local/lib/python3.10/dist-packages (from requests>=2.26.0->tiktoken<1,>=0.7->langchain-openai==0.1.7) (3.3.2)\n",
      "Requirement already satisfied: urllib3<3,>=1.21.1 in /usr/local/lib/python3.10/dist-packages (from requests>=2.26.0->tiktoken<1,>=0.7->langchain-openai==0.1.7) (2.0.7)\n",
      "Installing collected packages: h11, tiktoken, httpcore, httpx, openai, langchain-openai\n",
      "Successfully installed h11-0.14.0 httpcore-1.0.5 httpx-0.27.0 langchain-openai-0.1.7 openai-1.35.7 tiktoken-0.7.0\n",
      "Collecting langchain-community==0.2.0\n",
      "  Downloading langchain_community-0.2.0-py3-none-any.whl (2.1 MB)\n",
      "\u001b[2K     \u001b[90m━━━━━━━━━━━━━━━━━━━━━━━━━━━━━━━━━━━━━━━━\u001b[0m \u001b[32m2.1/2.1 MB\u001b[0m \u001b[31m8.1 MB/s\u001b[0m eta \u001b[36m0:00:00\u001b[0m\n",
      "\u001b[?25hRequirement already satisfied: PyYAML>=5.3 in /usr/local/lib/python3.10/dist-packages (from langchain-community==0.2.0) (6.0.1)\n",
      "Requirement already satisfied: SQLAlchemy<3,>=1.4 in /usr/local/lib/python3.10/dist-packages (from langchain-community==0.2.0) (2.0.31)\n",
      "Requirement already satisfied: aiohttp<4.0.0,>=3.8.3 in /usr/local/lib/python3.10/dist-packages (from langchain-community==0.2.0) (3.9.5)\n",
      "Requirement already satisfied: dataclasses-json<0.7,>=0.5.7 in /usr/local/lib/python3.10/dist-packages (from langchain-community==0.2.0) (0.6.7)\n",
      "Requirement already satisfied: langchain<0.3.0,>=0.2.0 in /usr/local/lib/python3.10/dist-packages (from langchain-community==0.2.0) (0.2.0)\n",
      "Requirement already satisfied: langchain-core<0.3.0,>=0.2.0 in /usr/local/lib/python3.10/dist-packages (from langchain-community==0.2.0) (0.2.10)\n",
      "Requirement already satisfied: langsmith<0.2.0,>=0.1.0 in /usr/local/lib/python3.10/dist-packages (from langchain-community==0.2.0) (0.1.82)\n",
      "Requirement already satisfied: numpy<2,>=1 in /usr/local/lib/python3.10/dist-packages (from langchain-community==0.2.0) (1.25.2)\n",
      "Requirement already satisfied: requests<3,>=2 in /usr/local/lib/python3.10/dist-packages (from langchain-community==0.2.0) (2.31.0)\n",
      "Requirement already satisfied: tenacity<9.0.0,>=8.1.0 in /usr/local/lib/python3.10/dist-packages (from langchain-community==0.2.0) (8.4.1)\n",
      "Requirement already satisfied: aiosignal>=1.1.2 in /usr/local/lib/python3.10/dist-packages (from aiohttp<4.0.0,>=3.8.3->langchain-community==0.2.0) (1.3.1)\n",
      "Requirement already satisfied: attrs>=17.3.0 in /usr/local/lib/python3.10/dist-packages (from aiohttp<4.0.0,>=3.8.3->langchain-community==0.2.0) (23.2.0)\n",
      "Requirement already satisfied: frozenlist>=1.1.1 in /usr/local/lib/python3.10/dist-packages (from aiohttp<4.0.0,>=3.8.3->langchain-community==0.2.0) (1.4.1)\n",
      "Requirement already satisfied: multidict<7.0,>=4.5 in /usr/local/lib/python3.10/dist-packages (from aiohttp<4.0.0,>=3.8.3->langchain-community==0.2.0) (6.0.5)\n",
      "Requirement already satisfied: yarl<2.0,>=1.0 in /usr/local/lib/python3.10/dist-packages (from aiohttp<4.0.0,>=3.8.3->langchain-community==0.2.0) (1.9.4)\n",
      "Requirement already satisfied: async-timeout<5.0,>=4.0 in /usr/local/lib/python3.10/dist-packages (from aiohttp<4.0.0,>=3.8.3->langchain-community==0.2.0) (4.0.3)\n",
      "Requirement already satisfied: marshmallow<4.0.0,>=3.18.0 in /usr/local/lib/python3.10/dist-packages (from dataclasses-json<0.7,>=0.5.7->langchain-community==0.2.0) (3.21.3)\n",
      "Requirement already satisfied: typing-inspect<1,>=0.4.0 in /usr/local/lib/python3.10/dist-packages (from dataclasses-json<0.7,>=0.5.7->langchain-community==0.2.0) (0.9.0)\n",
      "Requirement already satisfied: langchain-text-splitters<0.3.0,>=0.2.0 in /usr/local/lib/python3.10/dist-packages (from langchain<0.3.0,>=0.2.0->langchain-community==0.2.0) (0.2.2)\n",
      "Requirement already satisfied: pydantic<3,>=1 in /usr/local/lib/python3.10/dist-packages (from langchain<0.3.0,>=0.2.0->langchain-community==0.2.0) (2.7.4)\n",
      "Requirement already satisfied: jsonpatch<2.0,>=1.33 in /usr/local/lib/python3.10/dist-packages (from langchain-core<0.3.0,>=0.2.0->langchain-community==0.2.0) (1.33)\n",
      "Requirement already satisfied: packaging<25,>=23.2 in /usr/local/lib/python3.10/dist-packages (from langchain-core<0.3.0,>=0.2.0->langchain-community==0.2.0) (24.1)\n",
      "Requirement already satisfied: orjson<4.0.0,>=3.9.14 in /usr/local/lib/python3.10/dist-packages (from langsmith<0.2.0,>=0.1.0->langchain-community==0.2.0) (3.10.5)\n",
      "Requirement already satisfied: charset-normalizer<4,>=2 in /usr/local/lib/python3.10/dist-packages (from requests<3,>=2->langchain-community==0.2.0) (3.3.2)\n",
      "Requirement already satisfied: idna<4,>=2.5 in /usr/local/lib/python3.10/dist-packages (from requests<3,>=2->langchain-community==0.2.0) (3.7)\n",
      "Requirement already satisfied: urllib3<3,>=1.21.1 in /usr/local/lib/python3.10/dist-packages (from requests<3,>=2->langchain-community==0.2.0) (2.0.7)\n",
      "Requirement already satisfied: certifi>=2017.4.17 in /usr/local/lib/python3.10/dist-packages (from requests<3,>=2->langchain-community==0.2.0) (2024.6.2)\n",
      "Requirement already satisfied: typing-extensions>=4.6.0 in /usr/local/lib/python3.10/dist-packages (from SQLAlchemy<3,>=1.4->langchain-community==0.2.0) (4.12.2)\n",
      "Requirement already satisfied: greenlet!=0.4.17 in /usr/local/lib/python3.10/dist-packages (from SQLAlchemy<3,>=1.4->langchain-community==0.2.0) (3.0.3)\n",
      "Requirement already satisfied: jsonpointer>=1.9 in /usr/local/lib/python3.10/dist-packages (from jsonpatch<2.0,>=1.33->langchain-core<0.3.0,>=0.2.0->langchain-community==0.2.0) (3.0.0)\n",
      "Requirement already satisfied: annotated-types>=0.4.0 in /usr/local/lib/python3.10/dist-packages (from pydantic<3,>=1->langchain<0.3.0,>=0.2.0->langchain-community==0.2.0) (0.7.0)\n",
      "Requirement already satisfied: pydantic-core==2.18.4 in /usr/local/lib/python3.10/dist-packages (from pydantic<3,>=1->langchain<0.3.0,>=0.2.0->langchain-community==0.2.0) (2.18.4)\n",
      "Requirement already satisfied: mypy-extensions>=0.3.0 in /usr/local/lib/python3.10/dist-packages (from typing-inspect<1,>=0.4.0->dataclasses-json<0.7,>=0.5.7->langchain-community==0.2.0) (1.0.0)\n",
      "Installing collected packages: langchain-community\n",
      "Successfully installed langchain-community-0.2.0\n",
      "Collecting langgraph==0.1.1\n",
      "  Downloading langgraph-0.1.1-py3-none-any.whl (87 kB)\n",
      "\u001b[2K     \u001b[90m━━━━━━━━━━━━━━━━━━━━━━━━━━━━━━━━━━━━━━━━\u001b[0m \u001b[32m87.3/87.3 kB\u001b[0m \u001b[31m1.9 MB/s\u001b[0m eta \u001b[36m0:00:00\u001b[0m\n",
      "\u001b[?25hRequirement already satisfied: langchain-core<0.3,>=0.2 in /usr/local/lib/python3.10/dist-packages (from langgraph==0.1.1) (0.2.10)\n",
      "Requirement already satisfied: PyYAML>=5.3 in /usr/local/lib/python3.10/dist-packages (from langchain-core<0.3,>=0.2->langgraph==0.1.1) (6.0.1)\n",
      "Requirement already satisfied: jsonpatch<2.0,>=1.33 in /usr/local/lib/python3.10/dist-packages (from langchain-core<0.3,>=0.2->langgraph==0.1.1) (1.33)\n",
      "Requirement already satisfied: langsmith<0.2.0,>=0.1.75 in /usr/local/lib/python3.10/dist-packages (from langchain-core<0.3,>=0.2->langgraph==0.1.1) (0.1.82)\n",
      "Requirement already satisfied: packaging<25,>=23.2 in /usr/local/lib/python3.10/dist-packages (from langchain-core<0.3,>=0.2->langgraph==0.1.1) (24.1)\n",
      "Requirement already satisfied: pydantic<3,>=1 in /usr/local/lib/python3.10/dist-packages (from langchain-core<0.3,>=0.2->langgraph==0.1.1) (2.7.4)\n",
      "Requirement already satisfied: tenacity!=8.4.0,<9.0.0,>=8.1.0 in /usr/local/lib/python3.10/dist-packages (from langchain-core<0.3,>=0.2->langgraph==0.1.1) (8.4.1)\n",
      "Requirement already satisfied: jsonpointer>=1.9 in /usr/local/lib/python3.10/dist-packages (from jsonpatch<2.0,>=1.33->langchain-core<0.3,>=0.2->langgraph==0.1.1) (3.0.0)\n",
      "Requirement already satisfied: orjson<4.0.0,>=3.9.14 in /usr/local/lib/python3.10/dist-packages (from langsmith<0.2.0,>=0.1.75->langchain-core<0.3,>=0.2->langgraph==0.1.1) (3.10.5)\n",
      "Requirement already satisfied: requests<3,>=2 in /usr/local/lib/python3.10/dist-packages (from langsmith<0.2.0,>=0.1.75->langchain-core<0.3,>=0.2->langgraph==0.1.1) (2.31.0)\n",
      "Requirement already satisfied: annotated-types>=0.4.0 in /usr/local/lib/python3.10/dist-packages (from pydantic<3,>=1->langchain-core<0.3,>=0.2->langgraph==0.1.1) (0.7.0)\n",
      "Requirement already satisfied: pydantic-core==2.18.4 in /usr/local/lib/python3.10/dist-packages (from pydantic<3,>=1->langchain-core<0.3,>=0.2->langgraph==0.1.1) (2.18.4)\n",
      "Requirement already satisfied: typing-extensions>=4.6.1 in /usr/local/lib/python3.10/dist-packages (from pydantic<3,>=1->langchain-core<0.3,>=0.2->langgraph==0.1.1) (4.12.2)\n",
      "Requirement already satisfied: charset-normalizer<4,>=2 in /usr/local/lib/python3.10/dist-packages (from requests<3,>=2->langsmith<0.2.0,>=0.1.75->langchain-core<0.3,>=0.2->langgraph==0.1.1) (3.3.2)\n",
      "Requirement already satisfied: idna<4,>=2.5 in /usr/local/lib/python3.10/dist-packages (from requests<3,>=2->langsmith<0.2.0,>=0.1.75->langchain-core<0.3,>=0.2->langgraph==0.1.1) (3.7)\n",
      "Requirement already satisfied: urllib3<3,>=1.21.1 in /usr/local/lib/python3.10/dist-packages (from requests<3,>=2->langsmith<0.2.0,>=0.1.75->langchain-core<0.3,>=0.2->langgraph==0.1.1) (2.0.7)\n",
      "Requirement already satisfied: certifi>=2017.4.17 in /usr/local/lib/python3.10/dist-packages (from requests<3,>=2->langsmith<0.2.0,>=0.1.75->langchain-core<0.3,>=0.2->langgraph==0.1.1) (2024.6.2)\n",
      "Installing collected packages: langgraph\n",
      "Successfully installed langgraph-0.1.1\n"
     ]
    }
   ],
   "source": [
    "!pip install langchain==0.2.0\n",
    "!pip install langchain-openai==0.1.7\n",
    "!pip install langchain-community==0.2.0\n",
    "!pip install langgraph==0.1.1"
   ]
  },
  {
   "cell_type": "markdown",
   "metadata": {
    "id": "H9c37cLnSrbg"
   },
   "source": [
    "## Enter Open AI API Key"
   ]
  },
  {
   "cell_type": "code",
   "execution_count": 2,
   "metadata": {
    "colab": {
     "base_uri": "https://localhost:8080/"
    },
    "id": "cv3JzCEx_PAd",
    "outputId": "98559c4e-4c1a-4c63-f96f-9c02db3b89ba"
   },
   "outputs": [
    {
     "name": "stdout",
     "output_type": "stream",
     "text": [
      "Enter Open AI API Key: ··········\n"
     ]
    }
   ],
   "source": [
    "from getpass import getpass\n",
    "\n",
    "OPENAI_KEY = getpass('Enter Open AI API Key: ')"
   ]
  },
  {
   "cell_type": "markdown",
   "metadata": {
    "id": "ucWRRI3QztL2"
   },
   "source": [
    "## Enter Tavily Search API Key\n",
    "\n",
    "Get a free API key from [here](https://tavily.com/#api)"
   ]
  },
  {
   "cell_type": "code",
   "execution_count": 3,
   "metadata": {
    "colab": {
     "base_uri": "https://localhost:8080/"
    },
    "id": "mK-1WLzOrJdb",
    "outputId": "3939bf0f-f32e-4e98-fbd0-88e176ac1e51"
   },
   "outputs": [
    {
     "name": "stdout",
     "output_type": "stream",
     "text": [
      "Enter Tavily Search API Key: ··········\n"
     ]
    }
   ],
   "source": [
    "TAVILY_API_KEY = getpass('Enter Tavily Search API Key: ')"
   ]
  },
  {
   "cell_type": "markdown",
   "metadata": {
    "id": "djj1pH6A04BX"
   },
   "source": [
    "## Enter WeatherAPI API Key\n",
    "\n",
    "Get a free API key from [here](https://www.weatherapi.com/signup.aspx)"
   ]
  },
  {
   "cell_type": "code",
   "execution_count": 4,
   "metadata": {
    "colab": {
     "base_uri": "https://localhost:8080/"
    },
    "id": "XpAMz1XgEEov",
    "outputId": "a7484dea-27c8-4961-a2ba-ca887ef922f1"
   },
   "outputs": [
    {
     "name": "stdout",
     "output_type": "stream",
     "text": [
      "Enter WeatherAPI API Key: ··········\n"
     ]
    }
   ],
   "source": [
    "WEATHER_API_KEY = getpass('Enter WeatherAPI API Key: ')"
   ]
  },
  {
   "cell_type": "markdown",
   "metadata": {
    "id": "1T0s0um5Svfa"
   },
   "source": [
    "## Setup Environment Variables"
   ]
  },
  {
   "cell_type": "code",
   "execution_count": 5,
   "metadata": {
    "id": "x1YSuHNF_lbh"
   },
   "outputs": [],
   "source": [
    "import os\n",
    "\n",
    "os.environ['OPENAI_API_KEY'] = OPENAI_KEY\n",
    "os.environ['TAVILY_API_KEY'] = TAVILY_API_KEY"
   ]
  },
  {
   "cell_type": "markdown",
   "metadata": {
    "id": "howf-v0ARWbv"
   },
   "source": [
    "## Create Tools\n",
    "\n",
    "Here we create two custom tools which are wrappers on top of the [Tavily API](https://tavily.com/#api) and [WeatherAPI](https://www.weatherapi.com/)\n",
    "\n",
    "- Simple Web Search tool\n",
    "- Weather tool"
   ]
  },
  {
   "cell_type": "code",
   "execution_count": 47,
   "metadata": {
    "id": "Ue8xgu9WpuPi"
   },
   "outputs": [],
   "source": [
    "from langchain_community.tools.tavily_search import TavilySearchResults\n",
    "from langchain_core.tools import tool\n",
    "import json\n",
    "import requests\n",
    "\n",
    "tv_search = TavilySearchResults(max_results=3, search_depth='advanced',\n",
    "                                max_tokens=10000)\n",
    "\n",
    "@tool\n",
    "def search_web(query: str) -> list:\n",
    "    \"\"\"Search the web for a query.\"\"\"\n",
    "    results = tv_search.invoke(query)\n",
    "    return results\n",
    "\n",
    "@tool\n",
    "def get_weather(query: str) -> list:\n",
    "    \"\"\"Search weatherapi to get the current weather.\"\"\"\n",
    "    base_url = \"http://api.weatherapi.com/v1/current.json\"\n",
    "    complete_url = f\"{base_url}?key={WEATHER_API_KEY}&q={query}\"\n",
    "\n",
    "    response = requests.get(complete_url)\n",
    "    data = response.json()\n",
    "    if data.get(\"location\"):\n",
    "        return data\n",
    "    else:\n",
    "        return \"Weather Data Not Found\"\n"
   ]
  },
  {
   "cell_type": "markdown",
   "metadata": {
    "id": "D2N5192vikJR"
   },
   "source": [
    "## Test Tool Calling with LLM"
   ]
  },
  {
   "cell_type": "code",
   "execution_count": 7,
   "metadata": {
    "id": "_B2EFrwTpuXB"
   },
   "outputs": [],
   "source": [
    "from langchain_openai import ChatOpenAI\n",
    "\n",
    "chatgpt = ChatOpenAI(model=\"gpt-4o\", temperature=0)\n",
    "tools = [search_web, get_weather]\n",
    "\n",
    "chatgpt_with_tools = chatgpt.bind_tools(tools)"
   ]
  },
  {
   "cell_type": "code",
   "execution_count": 8,
   "metadata": {
    "colab": {
     "base_uri": "https://localhost:8080/"
    },
    "id": "W0rVVBGDpuYw",
    "outputId": "f5673143-4f2e-48a0-a72b-41ca6ec795db"
   },
   "outputs": [
    {
     "data": {
      "text/plain": [
       "[{'name': 'search_web',\n",
       "  'args': {'query': 'Champions League winner 2024'},\n",
       "  'id': 'call_RWuwl6sYmfTyhu6xCqQAH247'}]"
      ]
     },
     "execution_count": 8,
     "metadata": {},
     "output_type": "execute_result"
    }
   ],
   "source": [
    "prompt = \"who won the champions league in 2024\"\n",
    "response = chatgpt_with_tools.invoke(prompt)\n",
    "response.tool_calls"
   ]
  },
  {
   "cell_type": "code",
   "execution_count": 9,
   "metadata": {
    "colab": {
     "base_uri": "https://localhost:8080/"
    },
    "id": "9qfchhGEpuaj",
    "outputId": "02437f1a-c413-4526-adce-1291c1443e0f"
   },
   "outputs": [
    {
     "data": {
      "text/plain": [
       "[{'name': 'get_weather',\n",
       "  'args': {'query': 'Bangalore'},\n",
       "  'id': 'call_l0liDwLa3rjGiaJOmSNMgYV2'}]"
      ]
     },
     "execution_count": 9,
     "metadata": {},
     "output_type": "execute_result"
    }
   ],
   "source": [
    "prompt = \"how is the weather in Bangalore today\"\n",
    "response = chatgpt_with_tools.invoke(prompt)\n",
    "response.tool_calls"
   ]
  },
  {
   "cell_type": "markdown",
   "metadata": {
    "id": "c7kvwG3SmREW"
   },
   "source": [
    "## Build and Test AI Agent with LangGraph Pre-built Agent\n",
    "\n",
    "Now that we have defined the tools and the LLM, we can create the agent. We will be using a tool calling agent to bind the tools to the agent with a prompt. We will also add in the capability to store historical conversations as memory"
   ]
  },
  {
   "cell_type": "code",
   "execution_count": 48,
   "metadata": {
    "id": "grNq1I6_5dxC"
   },
   "outputs": [],
   "source": [
    "from langchain_core.prompts import ChatPromptTemplate, MessagesPlaceholder\n",
    "\n",
    "SYS_PROMPT = \"\"\"Act as a helpful assistant.\n",
    "                Use the tools at your disposal to perform tasks as needed.\n",
    "                  - get_weather: whenever user asks get the weather of a place.\n",
    "                  - search_web: whenever user asks for information on current events or if you don't know the answer.\n",
    "             \"\"\"\n",
    "prompt_template = ChatPromptTemplate.from_messages(\n",
    "    [\n",
    "        (\"system\", SYS_PROMPT),\n",
    "        MessagesPlaceholder(variable_name=\"messages\")\n",
    "    ]\n",
    ")\n",
    "\n",
    "def add_sys_prompt(messages):\n",
    "    return prompt_template.invoke({\"messages\": messages}).to_messages()\n"
   ]
  },
  {
   "cell_type": "markdown",
   "metadata": {
    "id": "jlJwVepDmsZw"
   },
   "source": [
    "Now, we can initalize the agent with the LLM, the system prompt, and the tools.\n",
    "\n",
    "The agent is responsible for taking in input and deciding what actions to take.\n",
    "\n",
    "LangGraph will help us create a ReAct style agent with a built-in `create_react_agent` function. Please note that here we will use a prebuilt agent.\n",
    "\n",
    "One of the big benefits of LangGraph is that you can easily create your own agent architectures. This is something we will look at in the next hands-on demos once you get familiar with some of the essentials of using LangGraph here.\n",
    "\n",
    "Note that we are passing in the model `chatgpt`, not `chatgpt_with_tools`. That is because LangGraph will automatically bind the tools to the LLM under the hood using the `bind_tools` function.\n",
    "\n",
    "This should ideally be used with an LLM which supports tool \\ function calling"
   ]
  },
  {
   "cell_type": "code",
   "execution_count": 49,
   "metadata": {
    "id": "u4NMA82HpueH"
   },
   "outputs": [],
   "source": [
    "from langgraph.prebuilt import create_react_agent\n",
    "\n",
    "agent = create_react_agent(chatgpt, tools=tools,\n",
    "                           messages_modifier=add_sys_prompt)"
   ]
  },
  {
   "cell_type": "markdown",
   "metadata": {
    "id": "TiL70NCrmkkW"
   },
   "source": [
    "Let's visualize the agent architecture now"
   ]
  },
  {
   "cell_type": "code",
   "execution_count": 51,
   "metadata": {
    "colab": {
     "base_uri": "https://localhost:8080/",
     "height": 254
    },
    "id": "vAuGe5G5pugJ",
    "outputId": "c4ed5d8a-0c4e-40a1-f64b-d1daab871679"
   },
   "outputs": [
    {
     "data": {
      "image/jpeg": "[encoded data removed]",
      "text/plain": [
       "<IPython.core.display.Image object>"
      ]
     },
     "metadata": {},
     "output_type": "display_data"
    }
   ],
   "source": [
    "from IPython.display import Image, display\n",
    "\n",
    "display(Image(agent.get_graph().draw_mermaid_png()))"
   ]
  },
  {
   "cell_type": "code",
   "execution_count": 52,
   "metadata": {
    "colab": {
     "base_uri": "https://localhost:8080/",
     "height": 71
    },
    "id": "OXqgT0Yth892",
    "outputId": "e2efff1f-7bb3-40aa-a097-539f8c91de81"
   },
   "outputs": [
    {
     "data": {
      "application/vnd.google.colaboratory.intrinsic+json": {
       "type": "string"
      },
      "text/plain": [
       "\"I'm sorry, but as of my last update in October 2023, I don't have information about the 2024 UEFA Champions League winner or the details of the match. For the most current and detailed information, I recommend checking the latest sports news or the official UEFA website.\""
      ]
     },
     "execution_count": 52,
     "metadata": {},
     "output_type": "execute_result"
    }
   ],
   "source": [
    "query = \"\"\"Tell me who won the champions league in 2024,\n",
    "            show some detailed information about the match also\n",
    "        \"\"\"\n",
    "response = chatgpt.invoke(query)\n",
    "response.content"
   ]
  },
  {
   "cell_type": "code",
   "execution_count": 53,
   "metadata": {
    "id": "07nRAXEwY7Ea"
   },
   "outputs": [],
   "source": [
    "query = \"\"\"Tell me who won the champions league in 2024,\n",
    "            show some detailed information about the match also\n",
    "        \"\"\"\n",
    "response = agent.invoke({\"messages\": [('user', query)]})"
   ]
  },
  {
   "cell_type": "code",
   "execution_count": 54,
   "metadata": {
    "colab": {
     "base_uri": "https://localhost:8080/"
    },
    "id": "BgsBPy__v3BQ",
    "outputId": "788e7d2d-8a58-40a8-8da2-fad9762f9755"
   },
   "outputs": [
    {
     "data": {
      "text/plain": [
       "{'messages': [HumanMessage(content='Tell me who won the champions league in 2024,\\n            show some detailed information about the match also\\n        ', id='1385af5e-f9bd-4f38-8b50-65434c5b2449'),\n",
       "  AIMessage(content='', additional_kwargs={'tool_calls': [{'id': 'call_f4ixvlfZSfDQZe2xrGtIncRS', 'function': {'arguments': '{\"query\":\"Champions League 2024 winner\"}', 'name': 'search_web'}, 'type': 'function'}]}, response_metadata={'token_usage': {'completion_tokens': 20, 'prompt_tokens': 147, 'total_tokens': 167}, 'model_name': 'gpt-4o', 'system_fingerprint': 'fp_d576307f90', 'finish_reason': 'tool_calls', 'logprobs': None}, id='run-4f0ddd30-90b1-4712-ae2f-a2b9462bc90d-0', tool_calls=[{'name': 'search_web', 'args': {'query': 'Champions League 2024 winner'}, 'id': 'call_f4ixvlfZSfDQZe2xrGtIncRS'}]),\n",
       "  ToolMessage(content='[{\"url\": \"https://en.wikipedia.org/wiki/2024_UEFA_Champions_League_final\", \"content\": \"Wembley Stadium was selected by the UEFA Executive Committee during their meeting in Ljubljana, Slovenia, on 24 September 2019,[7] where the hosts for the 2021 and 2022 UEFA Champions League finals were also appointed.[8]\\\\nOn 17 June 2020, the UEFA Executive Committee announced that due to the postponement and relocation of the 2020 final, London would instead host the 2024 final.[2]\\\\nPre-match[edit]\\\\nIdentity[edit]\\\\nThe visual identity of the 2024 UEFA Champions League final was unveiled at the group stage draw in Monaco on 31 August 2023.[9]\\\\nMatch[edit]\\\\nDetails[edit]\\\\nThe \\\\\"home\\\\\" team (for administrative purposes) will be determined by an additional draw held after the quarter-final and semi-final draws.\\\\n Contents\\\\n2024 UEFA Champions League final\\\\nThe 2024 UEFA Champions League final will be the final match of the 2023\\\\u201324 UEFA Champions League, the 69th season of Europe\\'s premier club football tournament organised by UEFA, and the 32nd season since it was renamed from the European Champion Clubs\\' Cup to the UEFA Champions League. It is also the thirteenth held in the United Kingdom, with the 1960, 1976 and 2002 finals held in Scotland and the 2017 final held in Wales.[4] Wembley Stadium was also a host venue at UEFA Euro 2020, with eight matches played at the stadium including the semi-finals and final.\\\\n Associations had until 22 March 2019 to express interest, and bid dossiers had to be submitted by 1 July 2019.[6]\\\\nThe Football Association was reported to have bid with Wembley Stadium in London to host the 2023 final, in order to mark the centenary of the opening of the original stadium in 1923.[6] The winners will earn the right to play against the winners of the 2023\\\\u201324 UEFA Europa League in the 2024 UEFA Super Cup, as well as qualify for the 2025 expanded FIFA Club World Cup using the UEFA\\'s champions pathway.[3]\"}, {\"url\": \"https://www.uefa.com/uefachampionsleague/news/028e-1b07e18d875a-ba78e4b9d9fc-1000--real-madrid-win-champions-league-carvajal-and-vinicius-jun/\", \"content\": \"Live 01/06/2024 Champions League winners by nation Joselu became the 79th Spaniard to feature in a final win in 2024, with Jude Bellingham the 70th English player. ...\"}]', name='search_web', id='d5aa68c7-77c9-4ba9-ad36-3804caf1c27f', tool_call_id='call_f4ixvlfZSfDQZe2xrGtIncRS'),\n",
       "  AIMessage(content=\"The 2024 UEFA Champions League final was won by Real Madrid. Here are some detailed insights about the match:\\n\\n### Match Details\\n- **Date:** 1 June 2024\\n- **Venue:** Wembley Stadium, London, United Kingdom\\n- **Teams:** Real Madrid vs. [Opponent]\\n- **Final Score:** [Score]\\n\\n### Key Highlights\\n- **Winning Team:** Real Madrid\\n- **Notable Players:**\\n  - **Joselu:** Became the 79th Spaniard to feature in a final win in 2024.\\n  - **Jude Bellingham:** Became the 70th English player to feature in a final win.\\n\\n### Additional Information\\n- **Significance:** This victory allows Real Madrid to play against the winners of the 2023–24 UEFA Europa League in the 2024 UEFA Super Cup. They also qualify for the 2025 expanded FIFA Club World Cup using UEFA's champions pathway.\\n- **Historical Context:** This was the 69th season of Europe's premier club football tournament organized by UEFA, and the 32nd season since it was renamed from the European Champion Clubs' Cup to the UEFA Champions League. Wembley Stadium has hosted multiple significant matches, including the semi-finals and final of UEFA Euro 2020.\\n\\nFor more detailed information, you can visit the [UEFA official page](https://www.uefa.com/uefachampionsleague/news/028e-1b07e18d875a-ba78e4b9d9fc-1000--real-madrid-win-champions-league-carvajal-and-vinicius-jun/) or the [Wikipedia page](https://en.wikipedia.org/wiki/2024_UEFA_Champions_League_final).\", response_metadata={'token_usage': {'completion_tokens': 360, 'prompt_tokens': 763, 'total_tokens': 1123}, 'model_name': 'gpt-4o', 'system_fingerprint': 'fp_d576307f90', 'finish_reason': 'stop', 'logprobs': None}, id='run-d62a9170-0849-46fa-a55d-5dbbe2ae6d13-0')]}"
      ]
     },
     "execution_count": 54,
     "metadata": {},
     "output_type": "execute_result"
    }
   ],
   "source": [
    "response"
   ]
  },
  {
   "cell_type": "code",
   "execution_count": 55,
   "metadata": {
    "colab": {
     "base_uri": "https://localhost:8080/",
     "height": 429
    },
    "id": "gAYpDy9-wDVj",
    "outputId": "b6d702cd-f033-4b49-8056-03ef38b0dbec"
   },
   "outputs": [
    {
     "data": {
      "text/markdown": [
       "The 2024 UEFA Champions League final was won by Real Madrid. Here are some detailed insights about the match:\n",
       "\n",
       "### Match Details\n",
       "- **Date:** 1 June 2024\n",
       "- **Venue:** Wembley Stadium, London, United Kingdom\n",
       "- **Teams:** Real Madrid vs. [Opponent]\n",
       "- **Final Score:** [Score]\n",
       "\n",
       "### Key Highlights\n",
       "- **Winning Team:** Real Madrid\n",
       "- **Notable Players:**\n",
       "  - **Joselu:** Became the 79th Spaniard to feature in a final win in 2024.\n",
       "  - **Jude Bellingham:** Became the 70th English player to feature in a final win.\n",
       "\n",
       "### Additional Information\n",
       "- **Significance:** This victory allows Real Madrid to play against the winners of the 2023–24 UEFA Europa League in the 2024 UEFA Super Cup. They also qualify for the 2025 expanded FIFA Club World Cup using UEFA's champions pathway.\n",
       "- **Historical Context:** This was the 69th season of Europe's premier club football tournament organized by UEFA, and the 32nd season since it was renamed from the European Champion Clubs' Cup to the UEFA Champions League. Wembley Stadium has hosted multiple significant matches, including the semi-finals and final of UEFA Euro 2020.\n",
       "\n",
       "For more detailed information, you can visit the [UEFA official page](https://www.uefa.com/uefachampionsleague/news/028e-1b07e18d875a-ba78e4b9d9fc-1000--real-madrid-win-champions-league-carvajal-and-vinicius-jun/) or the [Wikipedia page](https://en.wikipedia.org/wiki/2024_UEFA_Champions_League_final)."
      ],
      "text/plain": [
       "<IPython.core.display.Markdown object>"
      ]
     },
     "metadata": {},
     "output_type": "display_data"
    }
   ],
   "source": [
    "from IPython.display import display, Markdown\n",
    "\n",
    "display(Markdown(response['messages'][-1].content))"
   ]
  },
  {
   "cell_type": "code",
   "execution_count": 56,
   "metadata": {
    "id": "O1-HaMLoZAwO"
   },
   "outputs": [],
   "source": [
    "query = \"\"\"how is the weather in Bangalore today?\n",
    "        \"\"\"\n",
    "response = agent.invoke({\"messages\": [('user', query)]})"
   ]
  },
  {
   "cell_type": "code",
   "execution_count": 57,
   "metadata": {
    "colab": {
     "base_uri": "https://localhost:8080/",
     "height": 282
    },
    "id": "9ixO1_ADHR3O",
    "outputId": "035288da-a2e2-4d90-b7ed-8eeeea82b019"
   },
   "outputs": [
    {
     "data": {
      "text/markdown": [
       "The weather in Bangalore today is partly cloudy. Here are the current details:\n",
       "\n",
       "- **Temperature:** 24.2°C (75.6°F)\n",
       "- **Feels Like:** 26.2°C (79.2°F)\n",
       "- **Wind:** 16.9 kph (10.5 mph) from the southwest\n",
       "- **Humidity:** 89%\n",
       "- **Visibility:** 6 km (3 miles)\n",
       "- **Pressure:** 1014.0 mb\n",
       "- **UV Index:** 6 (Moderate)\n",
       "- **Cloud Cover:** 75%\n",
       "- **Precipitation:** None\n",
       "\n",
       "![Partly cloudy](//cdn.weatherapi.com/weather/64x64/day/116.png)"
      ],
      "text/plain": [
       "<IPython.core.display.Markdown object>"
      ]
     },
     "metadata": {},
     "output_type": "display_data"
    }
   ],
   "source": [
    "display(Markdown(response['messages'][-1].content))"
   ]
  },
  {
   "cell_type": "code",
   "execution_count": 58,
   "metadata": {
    "id": "NQfQOjFdJJ72"
   },
   "outputs": [],
   "source": [
    "query = \"\"\"what have we discussed so far?\n",
    "        \"\"\"\n",
    "response = agent.invoke({\"messages\": [('user', query)]})"
   ]
  },
  {
   "cell_type": "code",
   "execution_count": 59,
   "metadata": {
    "colab": {
     "base_uri": "https://localhost:8080/",
     "height": 46
    },
    "id": "Vu5nu6HiJPHc",
    "outputId": "1cc2eac6-2e65-4eb2-d5cb-2c5082d29452"
   },
   "outputs": [
    {
     "data": {
      "text/markdown": [
       "We haven't discussed anything yet. How can I assist you today?"
      ],
      "text/plain": [
       "<IPython.core.display.Markdown object>"
      ]
     },
     "metadata": {},
     "output_type": "display_data"
    }
   ],
   "source": [
    "display(Markdown(response['messages'][-1].content))"
   ]
  },
  {
   "cell_type": "markdown",
   "metadata": {
    "id": "DQQAx3B7xrl-"
   },
   "source": [
    "The agent is doing pretty well but unfortunately it doesn't remember conversations. Let's now use some memory to store this."
   ]
  },
  {
   "cell_type": "markdown",
   "metadata": {
    "id": "Cw9mxPskx734"
   },
   "source": [
    "## Build and Test Multi-User Conversational ReAct AI Agent\n",
    "\n",
    "We will now use `SqliteSaver` which helps to store separate conversation histories per user or session.\n",
    "\n",
    "This will help us build a conversational Agentic Chatbot which will be accessed by many users at the same time.\n",
    "\n",
    "While the legacy syntax uses `session_id`, in LangGraph, each user session is identified by `thread_id`"
   ]
  },
  {
   "cell_type": "code",
   "execution_count": 60,
   "metadata": {
    "id": "MRzirbihKlBA"
   },
   "outputs": [],
   "source": [
    "# removes the memory database file - usually not needed\n",
    "# you can run this only when you want to remove ALL conversation histories\n",
    "# ok if you get rm: cannot remove 'memory.db': No such file or directory  because initially no memory exists\n",
    "!rm memory.db*"
   ]
  },
  {
   "cell_type": "code",
   "execution_count": 61,
   "metadata": {
    "id": "_XSzUrlyZyFF"
   },
   "outputs": [],
   "source": [
    "from langgraph.checkpoint.sqlite import SqliteSaver\n",
    "\n",
    "# used to retrieve conversation history from database\n",
    "# based on a specific user or session ID\n",
    "memory = SqliteSaver.from_conn_string(\"memory.db\")\n",
    "\n",
    "# create a conversation chain + agent which can load memory based on specific user or session id\n",
    "agentic_chatbot = create_react_agent(chatgpt, tools=tools,\n",
    "                                     checkpointer=memory,\n",
    "                                     messages_modifier=add_sys_prompt)\n",
    "\n",
    "# function to call the agent show results per user session (called a thread ID here)\n",
    "from IPython.display import display, Markdown\n",
    "def chat_with_agent(prompt: str, session_id: str):\n",
    "    response = agentic_chatbot.invoke({\"messages\": [('user', prompt)]},\n",
    "                                      {'configurable': { 'thread_id': session_id}})\n",
    "    display(Markdown(response['messages'][-1].content))"
   ]
  },
  {
   "cell_type": "markdown",
   "metadata": {
    "id": "vYTNL_iJ6ibC"
   },
   "source": [
    "Let's now simulate User 1 using the agent"
   ]
  },
  {
   "cell_type": "code",
   "execution_count": 63,
   "metadata": {
    "colab": {
     "base_uri": "https://localhost:8080/",
     "height": 46
    },
    "id": "skpkMhni9lrZ",
    "outputId": "a5ed937f-a483-4d27-ab1f-0287780b4f0a"
   },
   "outputs": [
    {
     "data": {
      "text/markdown": [
       "Real Madrid won the UEFA Champions League in 2024."
      ],
      "text/plain": [
       "<IPython.core.display.Markdown object>"
      ]
     },
     "metadata": {},
     "output_type": "display_data"
    }
   ],
   "source": [
    "user_id = 'john001'\n",
    "prompt = \"Tell me who won champions league in 2024\"\n",
    "chat_with_agent(prompt, user_id)"
   ]
  },
  {
   "cell_type": "code",
   "execution_count": 64,
   "metadata": {
    "colab": {
     "base_uri": "https://localhost:8080/",
     "height": 690
    },
    "id": "XT4vtvku0TBW",
    "outputId": "f9e81817-dbdd-4467-e087-6dac8a362316"
   },
   "outputs": [
    {
     "data": {
      "text/markdown": [
       "The 2024 UEFA Champions League final was a significant event in the world of football. Here are some detailed aspects of the event:\n",
       "\n",
       "### Venue\n",
       "- **Location**: Wembley Stadium, London, United Kingdom.\n",
       "- **Significance**: This was the thirteenth time the final was held in the United Kingdom. Wembley Stadium has a rich history and was also a host venue for UEFA Euro 2020, including the semi-finals and final.\n",
       "\n",
       "### Match Details\n",
       "- **Date**: The final took place on June 1, 2024.\n",
       "- **Teams**: Real Madrid emerged as the champions.\n",
       "- **Players**: Joselu became the 79th Spaniard to feature in a final win, and Jude Bellingham was the 70th English player to do so.\n",
       "\n",
       "### Pre-Match\n",
       "- **Identity**: The visual identity of the 2024 UEFA Champions League final was unveiled at the group stage draw in Monaco on August 31, 2023.\n",
       "- **Administrative Draw**: The \"home\" team for administrative purposes was determined by an additional draw held after the quarter-final and semi-final draws.\n",
       "\n",
       "### Significance of the Win\n",
       "- **Super Cup Qualification**: The winners earned the right to play against the winners of the 2023–24 UEFA Europa League in the 2024 UEFA Super Cup.\n",
       "- **FIFA Club World Cup**: Real Madrid also qualified for the 2025 expanded FIFA Club World Cup using UEFA's champions pathway.\n",
       "\n",
       "### Historical Context\n",
       "- **Season**: This was the final match of the 2023–24 UEFA Champions League, marking the 69th season of Europe's premier club football tournament organized by UEFA.\n",
       "- **Renaming**: It was the 32nd season since the tournament was renamed from the European Champion Clubs' Cup to the UEFA Champions League.\n",
       "\n",
       "### Additional Information\n",
       "- **Bidding Process**: Associations had until March 22, 2019, to express interest in hosting the final, and bid dossiers had to be submitted by July 1, 2019. The Football Association bid with Wembley Stadium to host the 2023 final to mark the centenary of the original stadium's opening in 1923, but it was later selected for the 2024 final.\n",
       "\n",
       "This event was not just a football match but a celebration of the sport's rich history and tradition, especially significant for Real Madrid and their fans."
      ],
      "text/plain": [
       "<IPython.core.display.Markdown object>"
      ]
     },
     "metadata": {},
     "output_type": "display_data"
    }
   ],
   "source": [
    "prompt = \"Tell me more about this event in detail please\"\n",
    "chat_with_agent(prompt, user_id)"
   ]
  },
  {
   "cell_type": "markdown",
   "metadata": {
    "id": "B4zIlISy6m-x"
   },
   "source": [
    "Let's now simulate User 2 using the agent"
   ]
  },
  {
   "cell_type": "code",
   "execution_count": 65,
   "metadata": {
    "colab": {
     "base_uri": "https://localhost:8080/",
     "height": 334
    },
    "id": "ta1RUF_81RxX",
    "outputId": "db6b38ef-f15c-45bf-97d8-63e7bc028f3d"
   },
   "outputs": [
    {
     "data": {
      "text/markdown": [
       "The weather in Bangalore today is as follows:\n",
       "\n",
       "- **Condition**: Partly cloudy ![Partly cloudy](//cdn.weatherapi.com/weather/64x64/day/116.png)\n",
       "- **Temperature**: 24.2°C (75.6°F)\n",
       "- **Feels Like**: 26.2°C (79.2°F)\n",
       "- **Wind**: 16.9 kph (10.5 mph) from the southwest (230°)\n",
       "- **Gusts**: Up to 24.1 kph (15.0 mph)\n",
       "- **Humidity**: 89%\n",
       "- **Pressure**: 1014.0 mb (29.94 in)\n",
       "- **Precipitation**: 0.0 mm (0.0 in)\n",
       "- **Cloud Cover**: 75%\n",
       "- **Visibility**: 6.0 km (3.0 miles)\n",
       "- **UV Index**: 6.0\n",
       "- **Dew Point**: 18.3°C (65.0°F)\n",
       "\n",
       "The local time in Bangalore is 7:54 AM."
      ],
      "text/plain": [
       "<IPython.core.display.Markdown object>"
      ]
     },
     "metadata": {},
     "output_type": "display_data"
    }
   ],
   "source": [
    "user_id = 'bond007'\n",
    "prompt = \"how is the weather in Bangalore today? Show detailed statistics\"\n",
    "chat_with_agent(prompt, user_id)"
   ]
  },
  {
   "cell_type": "code",
   "execution_count": 66,
   "metadata": {
    "colab": {
     "base_uri": "https://localhost:8080/",
     "height": 334
    },
    "id": "vfn_Wxxg42rZ",
    "outputId": "c796a4d1-28d3-45ae-a9e1-039715bbaebf"
   },
   "outputs": [
    {
     "data": {
      "text/markdown": [
       "The weather in Dubai today is as follows:\n",
       "\n",
       "- **Condition**: Sunny ![Sunny](//cdn.weatherapi.com/weather/64x64/day/113.png)\n",
       "- **Temperature**: 33.2°C (91.8°F)\n",
       "- **Feels Like**: 37.8°C (100.1°F)\n",
       "- **Wind**: 6.8 kph (4.3 mph) from the south (180°)\n",
       "- **Gusts**: Up to 14.7 kph (9.1 mph)\n",
       "- **Humidity**: 67%\n",
       "- **Pressure**: 996.0 mb (29.41 in)\n",
       "- **Precipitation**: 0.0 mm (0.0 in)\n",
       "- **Cloud Cover**: 0%\n",
       "- **Visibility**: 8.0 km (4.0 miles)\n",
       "- **UV Index**: 8.0\n",
       "- **Dew Point**: 22.3°C (72.2°F)\n",
       "\n",
       "The local time in Dubai is 6:25 AM."
      ],
      "text/plain": [
       "<IPython.core.display.Markdown object>"
      ]
     },
     "metadata": {},
     "output_type": "display_data"
    }
   ],
   "source": [
    "user_id = 'bond007'\n",
    "prompt = \"what about Dubai?\"\n",
    "chat_with_agent(prompt, user_id)"
   ]
  },
  {
   "cell_type": "code",
   "execution_count": 67,
   "metadata": {
    "colab": {
     "base_uri": "https://localhost:8080/",
     "height": 87
    },
    "id": "I7jjxtmz6Qzi",
    "outputId": "51be34e0-5715-4088-8611-8e435fcae633"
   },
   "outputs": [
    {
     "data": {
      "text/markdown": [
       "Currently, Dubai is hotter than Bangalore. \n",
       "\n",
       "- **Dubai**: 33.2°C (91.8°F)\n",
       "- **Bangalore**: 24.2°C (75.6°F)"
      ],
      "text/plain": [
       "<IPython.core.display.Markdown object>"
      ]
     },
     "metadata": {},
     "output_type": "display_data"
    }
   ],
   "source": [
    "user_id = 'bond007'\n",
    "prompt = \"which city is hotter?\"\n",
    "chat_with_agent(prompt, user_id)"
   ]
  }
 ],
 "metadata": {
  "colab": {
   "provenance": []
  },
  "kernelspec": {
   "display_name": "Python 3 (ipykernel)",
   "language": "python",
   "name": "python3"
  },
  "language_info": {
   "codemirror_mode": {
    "name": "ipython",
    "version": 3
   },
   "file_extension": ".py",
   "mimetype": "text/x-python",
   "name": "python",
   "nbconvert_exporter": "python",
   "pygments_lexer": "ipython3",
   "version": "3.11.7"
  }
 },
 "nbformat": 4,
 "nbformat_minor": 4
}
